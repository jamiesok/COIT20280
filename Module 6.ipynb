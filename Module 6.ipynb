{
 "metadata": {
  "language_info": {
   "codemirror_mode": {
    "name": "ipython",
    "version": 3
   },
   "file_extension": ".py",
   "mimetype": "text/x-python",
   "name": "python",
   "nbconvert_exporter": "python",
   "pygments_lexer": "ipython3",
   "version": "3.7.6"
  },
  "orig_nbformat": 2,
  "kernelspec": {
   "name": "python376jvsc74a57bd0ab6c576cf668ff14d29f0d02eb553fc3cd559ce35bc756069a1f2fa3e90fc2ba",
   "display_name": "Python 3.7.6 64-bit ('base': conda)"
  },
  "metadata": {
   "interpreter": {
    "hash": "ab6c576cf668ff14d29f0d02eb553fc3cd559ce35bc756069a1f2fa3e90fc2ba"
   }
  }
 },
 "nbformat": 4,
 "nbformat_minor": 2,
 "cells": [
  {
   "source": [
    "# Module 6 #\n",
    "### Expected Time to Complete: 6hrs <tba>###\n",
    "### Total Marks: 18 marks <tba>### "
   ],
   "cell_type": "markdown",
   "metadata": {}
  },
  {
   "source": [
    "## About ##"
   ],
   "cell_type": "markdown",
   "metadata": {}
  },
  {
   "source": [
    "This Jupyter Notebook contains all of the portfolio assessment related to Module 6. The assessment tasks start off with some simple data I/O tasks and gradually build up to more complicated data access tasks that deal with different formats and different platforms. The focus of these tasks is on building the skills that are required for accessing data - from very simple data I/O to more complex data access. Such skills are a critical but often overlooked part of data analysis. We will also be working with data from our case study 'Credit Card Fraud Detection' in this notebook. Cyber Analytics is the broader theme of the course so we try to ensure that you have as many opportunities as possible to work with that type of data. \n",
    "\n",
    "Please ensure you refer to the marking rubric for this assessment item while completing the following assessment tasks."
   ],
   "cell_type": "markdown",
   "metadata": {}
  },
  {
   "source": [
    "## Section 1 - Data Access Basics ##"
   ],
   "cell_type": "markdown",
   "metadata": {}
  },
  {
   "source": [
    "### Section 1.1 - Data Access Fundamentals ###"
   ],
   "cell_type": "markdown",
   "metadata": {}
  },
  {
   "source": [
    "Following along with Mark Quinn's (2017) YouTube video on basic data I/O write a block of code that takes a 7 digit user security code plus their username and displays it to the screen. Also include a check on the security code."
   ],
   "cell_type": "markdown",
   "metadata": {}
  },
  {
   "cell_type": "code",
   "execution_count": null,
   "metadata": {},
   "outputs": [],
   "source": []
  },
  {
   "source": [
    "### Section 1.2 - Formatting Output ###"
   ],
   "cell_type": "markdown",
   "metadata": {}
  },
  {
   "source": [
    "Using the official python docs tutorial as a reference use formatted string literals (f-strings) to output a customer name and their credit card number using appropriate variables"
   ],
   "cell_type": "markdown",
   "metadata": {}
  },
  {
   "cell_type": "code",
   "execution_count": null,
   "metadata": {},
   "outputs": [],
   "source": []
  },
  {
   "source": [
    "Perform the same function as in the above but with the str.format() method"
   ],
   "cell_type": "markdown",
   "metadata": {}
  },
  {
   "cell_type": "code",
   "execution_count": null,
   "metadata": {},
   "outputs": [],
   "source": []
  },
  {
   "source": [
    "Using f-strings create a table that has two columns (customer name, credit card number) and four rows of data. Output this in a way that ensures the columns will always line up (hint: ensure a minimum number of characters via ':')  "
   ],
   "cell_type": "markdown",
   "metadata": {}
  },
  {
   "cell_type": "code",
   "execution_count": null,
   "metadata": {},
   "outputs": [],
   "source": []
  },
  {
   "source": [
    "Perform the same as in the above but using the string format method"
   ],
   "cell_type": "markdown",
   "metadata": {}
  },
  {
   "cell_type": "code",
   "execution_count": null,
   "metadata": {},
   "outputs": [],
   "source": []
  },
  {
   "source": [
    "Let's try this now with manual string formatting using a combination of left and right jusification for the customer name and credit card numbers"
   ],
   "cell_type": "markdown",
   "metadata": {}
  },
  {
   "cell_type": "code",
   "execution_count": null,
   "metadata": {},
   "outputs": [],
   "source": []
  },
  {
   "source": [
    "And now the same thing using old string formatting (ie. % operator)"
   ],
   "cell_type": "markdown",
   "metadata": {}
  },
  {
   "source": [
    "## Section 2 - Accessing Data (Different Formats, Different Plaforms) ##"
   ],
   "cell_type": "markdown",
   "metadata": {}
  },
  {
   "source": [
    "### Section 2.1 - Reading and Writing Files ###"
   ],
   "cell_type": "markdown",
   "metadata": {}
  },
  {
   "source": [
    "Following the official python docs tutorial create and open a file called customers in read and write mode."
   ],
   "cell_type": "markdown",
   "metadata": {}
  },
  {
   "cell_type": "code",
   "execution_count": null,
   "metadata": {},
   "outputs": [],
   "source": []
  },
  {
   "source": [
    "If you wanted to avoid problems caused by loading an extremely large file into memory show how you would do so"
   ],
   "cell_type": "markdown",
   "metadata": {}
  },
  {
   "cell_type": "code",
   "execution_count": null,
   "metadata": {},
   "outputs": [],
   "source": []
  },
  {
   "source": [
    "Show two different methods for reading lines from a file (all of the lines)"
   ],
   "cell_type": "markdown",
   "metadata": {}
  },
  {
   "cell_type": "code",
   "execution_count": null,
   "metadata": {},
   "outputs": [],
   "source": []
  },
  {
   "source": [
    "In the customers file you created previously write the following customer value to the file:\n",
    "customer = ('Jane Doe', 47, 78965432)"
   ],
   "cell_type": "markdown",
   "metadata": {}
  },
  {
   "cell_type": "code",
   "execution_count": null,
   "metadata": {},
   "outputs": [],
   "source": []
  },
  {
   "source": [
    "Show how you would write the following dictionary to a file called 'security_customers'. Make sure you do so in a way that is easy, allows for interoperability and incorporates best practice.\n"
   ],
   "cell_type": "markdown",
   "metadata": {}
  },
  {
   "cell_type": "code",
   "execution_count": 17,
   "metadata": {},
   "outputs": [],
   "source": [
    "customers = {50789: {'name': 'Baptiste', 'age': '52', 'status': 0},\n",
    "             72658: {'name': 'Helena', 'age': '26', 'status': 1}}"
   ]
  },
  {
   "source": [
    "### Section 2.2 - Files and Exceptions###"
   ],
   "cell_type": "markdown",
   "metadata": {}
  },
  {
   "source": [
    "Append the following customers to your previously created file 'security_customers'"
   ],
   "cell_type": "markdown",
   "metadata": {}
  },
  {
   "cell_type": "code",
   "execution_count": null,
   "metadata": {},
   "outputs": [],
   "source": [
    "new_customers = {60793: {'name': 'Mary', 'age': '15', 'status': 1},\n",
    "             72658: {'name': 'Barry', 'age': '32', 'status': 1}}"
   ]
  },
  {
   "cell_type": "code",
   "execution_count": null,
   "metadata": {},
   "outputs": [],
   "source": []
  },
  {
   "source": [
    "Open the file 'security_customers' and read the entire file"
   ],
   "cell_type": "markdown",
   "metadata": {}
  },
  {
   "cell_type": "code",
   "execution_count": null,
   "metadata": {},
   "outputs": [],
   "source": []
  },
  {
   "source": [
    "Write an exception block for the case where the file doesn't exist. To avoid a FileNotFoundError allow the program to fail silently."
   ],
   "cell_type": "markdown",
   "metadata": {}
  },
  {
   "cell_type": "code",
   "execution_count": null,
   "metadata": {},
   "outputs": [],
   "source": []
  },
  {
   "source": [
    "Write a more appropriate exception block for the case where the file does not exist. In this case provide a useful message to the user."
   ],
   "cell_type": "markdown",
   "metadata": {}
  },
  {
   "cell_type": "code",
   "execution_count": null,
   "metadata": {},
   "outputs": [],
   "source": []
  },
  {
   "source": [
    "### Section 2.3 - Pandas IO tools and different data formats ###\n",
    "There are no associated exercises for this section. This section simply refers to the pandas documentation which you should familiarise yourself with here (https://pandas.pydata.org/pandas-docs/stable/user_guide/io.html) . Take this opportunity - if you haven't done so already - to take a look at this documentation. This documentation will prove useful in the following sections. "
   ],
   "cell_type": "markdown",
   "metadata": {}
  },
  {
   "source": [
    "### Section 2.4 - Data Loading, Storage and File Formats###"
   ],
   "cell_type": "markdown",
   "metadata": {}
  },
  {
   "source": [
    "In this section we are going to start working with a data set that is specific to the cyber analytics context. This is the Kaggle Credit card fraud data set which can be found here: https://www.kaggle.com/mlg-ulb/creditcardfraud "
   ],
   "cell_type": "markdown",
   "metadata": {}
  },
  {
   "source": [
    "Using McKinney(2017) as a guide load the Kaggle credit card data into a pandas dataframe. Make sure that you account for the column names appropriately (demonstrating that you have taken time to understand the data) as well as potential missing values. As this is a csv make sure to use the pandas.read_csv() reader to do so. "
   ],
   "cell_type": "markdown",
   "metadata": {}
  },
  {
   "cell_type": "code",
   "execution_count": null,
   "metadata": {},
   "outputs": [],
   "source": []
  },
  {
   "source": [
    "There are a number of different methods to find out how much memory is consumed by the dataframe: sys.getsizeof(df), df.memory_usage() and df.info(). There is a discussion on stackoverflow on this here https://stackoverflow.com/questions/18089667/how-to-estimate-how-much-memory-a-pandas-dataframe-will-need/47751572 . Use one of these methods to find out how much memory your dataframe in the previous step takes up.  "
   ],
   "cell_type": "markdown",
   "metadata": {}
  },
  {
   "cell_type": "code",
   "execution_count": null,
   "metadata": {},
   "outputs": [],
   "source": []
  },
  {
   "source": [
    "Provide commentary below on whether this particular file is considered 'large' and exactly what impact this has. Either demonstrate this with code or provide references to back up your assertion. Lee (2017) (https://towardsdatascience.com/why-and-how-to-use-pandas-with-large-data-9594dda2ea4c) is a reasonable reference point to start with here. However, you might find some better references yourself. "
   ],
   "cell_type": "markdown",
   "metadata": {}
  },
  {
   "cell_type": "code",
   "execution_count": null,
   "metadata": {},
   "outputs": [],
   "source": []
  },
  {
   "source": [
    "Show the four official ways that the pandas docs suggest for avoiding taking up too much memory by reading a large file. (see https://pandas.pydata.org/pandas-docs/stable/user_guide/scale.html) Demonstrate this with the Kaggle data set."
   ],
   "cell_type": "markdown",
   "metadata": {}
  },
  {
   "cell_type": "code",
   "execution_count": null,
   "metadata": {},
   "outputs": [],
   "source": []
  },
  {
   "source": [
    "The Pandas documentation introduced in Section 2.3 show how to look at performance metrics for different IO methods (https://pandas.pydata.org/pandas-docs/stable/user_guide/io.html#performance-considerations). Reproduce this here but use the Kaggle data to do so. "
   ],
   "cell_type": "markdown",
   "metadata": {}
  },
  {
   "cell_type": "code",
   "execution_count": null,
   "metadata": {},
   "outputs": [],
   "source": []
  },
  {
   "source": [
    "Comment on what your top three performers are in terms of speed. How does this relate to the pandas documentation? If there are differences comment on why you believe there are differences. "
   ],
   "cell_type": "markdown",
   "metadata": {}
  },
  {
   "cell_type": "code",
   "execution_count": null,
   "metadata": {},
   "outputs": [],
   "source": []
  },
  {
   "source": [
    "Based on these tests plus what you know about these methods what would your recommended IO method be for this particular data set? Justify your recommendation. Remember all IO methods have their advantages and disadvantages."
   ],
   "cell_type": "markdown",
   "metadata": {}
  },
  {
   "cell_type": "code",
   "execution_count": null,
   "metadata": {},
   "outputs": [],
   "source": []
  },
  {
   "source": [
    "Write the Kaggle data set to a sqlite database and then show how you would load this data from the database into a pandas dataframe."
   ],
   "cell_type": "markdown",
   "metadata": {}
  },
  {
   "cell_type": "code",
   "execution_count": null,
   "metadata": {},
   "outputs": [],
   "source": []
  },
  {
   "source": [
    "## Section 3 - Creating Coherent Data Sets (PCAP mini-project) ##"
   ],
   "cell_type": "markdown",
   "metadata": {}
  },
  {
   "source": [
    "In the following sections of this notebook you should address the following requirements:\n",
    "\n",
    "    1) Use scapy to explore and understand data in a pcap file (Read the pcap file, explore a single item in the pcap, understand object types in scapy and importing layers)\n",
    "    2) Convert data in your pcap file to a workable Pandas DataFrame\n",
    "    3) Write your dataframe to a csv file (4 columns only: source address, destination adress, source port and destination port)\n"
   ],
   "cell_type": "markdown",
   "metadata": {}
  },
  {
   "source": [
    "For 1) and 2) above we recommend Ronald Eddings blog post 'Learning Packet Analysis with Data Science' for his overview of pcap, python and pandas (https://medium.com/hackervalleystudio/learning-packet-analysis-with-data-science-5356a3340d4e).  Following along with his tutorial may simply be a little too difficult for some however - the downloads are quite large and sniffing packets on your own system may not be practical for many due to permissions (you must be root). However, Eddings Jupyter Notebook on github (https://github.com/secdevopsai/Packet-Analytics/blob/master/Packet-Analytics.ipynb) and the official Scapy docs (https://scapy.readthedocs.io/en/latest/introduction.html) provide enough information for you to explore and understand data in a pcap file. To make things a little easier we have provided you with a pcap file to use EK_MALWARE_2014-08-01-Nuclear-EK-traffic_mailware-traffic-analysis.net.pcap. You can get this file from GitHub here (https://github.com/sandy-75/COIT20280). This pcap file was sourced from a bank of malicious and exploit pcaps from Contagio (http://contagiodump.blogspot.com/2013/04/collection-of-pcap-files-from-malware.html). "
   ],
   "cell_type": "markdown",
   "metadata": {}
  },
  {
   "cell_type": "code",
   "execution_count": 3,
   "metadata": {},
   "outputs": [
    {
     "output_type": "execute_result",
     "data": {
      "text/plain": [
       "<EK_MALWARE_2014-08-01-Nuclear-EK-traffic_mailware-traffic-analysis.net.pcap: TCP:2080 UDP:227 ICMP:0 Other:0>"
      ]
     },
     "metadata": {},
     "execution_count": 3
    }
   ],
   "source": []
  },
  {
   "cell_type": "code",
   "execution_count": 5,
   "metadata": {},
   "outputs": [
    {
     "output_type": "stream",
     "name": "stdout",
     "text": [
      "Ether / IP / TCP 178.154.131.216:http > 172.16.165.132:49474 A / Raw\nIP / TCP 178.154.131.216:http > 172.16.165.132:49474 A / Raw\nTCP 178.154.131.216:http > 172.16.165.132:49474 A / Raw\nRaw\n###[ Ethernet ]### \n  dst       = 00:0c:29:c5:b7:a1\n  src       = 00:50:56:f3:ca:52\n  type      = IPv4\n###[ IP ]### \n     version   = 4\n     ihl       = 5\n     tos       = 0x0\n     len       = 1500\n     id        = 21614\n     flags     = \n     frag      = 0\n     ttl       = 128\n     proto     = tcp\n     chksum    = 0x58a6\n     src       = 178.154.131.216\n     dst       = 172.16.165.132\n     \\options   \\\n###[ TCP ]### \n        sport     = http\n        dport     = 49474\n        seq       = 482050258\n        ack       = 1552734652\n        dataofs   = 5\n        reserved  = 0\n        flags     = A\n        window    = 64239\n        chksum    = 0x30ca\n        urgptr    = 0\n        options   = []\n###[ Raw ]### \n           load      = 'HTTP/1.1 200 OK\\r\\nServer: nginx/1.6.0\\r\\nDate: Fri, 01 Aug 2014 00:50:43 GMT\\r\\nContent-Type: application/x-javascript\\r\\nContent-Length: 28307\\r\\nLast-Modified: Tue, 01 Jul 2014 14:12:14 GMT\\r\\nConnection: keep-alive\\r\\nETag: \"53b2c1be-6e93\"\\r\\nContent-Encoding: gzip\\r\\nExpires: Thu, 31 Dec 2037 23:55:55 GMT\\r\\nCache-Control: max-age=315360000\\r\\nCache-Control: public\\r\\nAccess-Control-Allow-Origin: *\\r\\n\\r\\n\\x1f\\\\x8b\\x08\\x00\\x00\\x00\\x00\\x00\\x02\\x03\\\\xa4;\\\\xf9\\\\x9b۶\\\\xb1\\\\xbf\\\\xbf\\\\xbfBB\\\\xfddb\\x05q%;\\\\xcek\\\\xa8`\\\\xf99^\\'q\\\\xeb\\\\xc4n즇$\\\\xf7\\x03HH\\\\xe2.EjIj\\x0f/\\\\x95\\\\xbf\\\\xfd̀\\x04\\x0f\\\\x89\\\\x8aۯIV\\x04q\\\\xcc1\\x18\\\\xcc1D\\\\xce\\\\xcf\\\\xfa\\\\xbd\\\\xab\\\\xbf\\\\xecT\\\\xf2л}fO\\\\xecq/\\\\xefY\\x1e\\\\xed=\\x1b\\\\x8f_0\\\\xf8\\\\x9d|e\\\\x86\\\\xbf\\\\x8fw\\\\x91/\\\\xb2 \\\\x8eX\\\\xefM\\\\xe4\\\\xd90\\\\xf1\\\\xea\\x06G\\\\xec8Y\\\\x9d\\\\x87\\\\x81\\\\xa7\\\\xa2T\\\\xf5\\\\xce\\\\xce\\\\xff\\\\xa7\\\\xbf\\\\xdcE\\x1eγ\\x04\\\\x93\\\\xf4\\\\x91\\\\xc4\\\\xf2Jy\\x19\\\\xe1<{تx\\\\xd9\\\\xdb\\\\xc4\\\\xfe.T\\\\x83\\\\xc1\\\\x89\\x01[\\\\xddo\\\\xe3$K\\\\xdd\\\\xf6+\\x17\\\\xb6\\x1f{\\\\xbb\\\\x8d\\\\x8a2W\\x02\\\\xe4\\\\xfe\\\\x98:5\"\\\\xfa\\x18,\\\\xad~=\\\\x85f\\\\xeb$\\\\xbe\\\\xebE\\\\xea\\\\xae\\\\xf7:I\\\\xe2\\\\xc4\"%\\x17\\\\x89\\\\xba\\\\xd9\\x05\\\\x89J{\\\\xa2w\\x17D~|\\x07\\\\x8fl\\rof%\\\\xa1\\\\xd3De\\\\xbb$\\\\xea\\x01\\x16\\\\xbaw\\\\xf4\\\\xafE\\\\x80w\\\\xb5\\x0c\"哾!\\\\xb7X\\\\xef\\x16\\x0f\\'[\\x07)ks~+\\\\x92\\\\x9e\\\\xc7g\\x0b\\\\xe6s\\\\xcfNQBLAˋ#Odl\\t\\\\xcd\\\\xed.]\\\\xb3\\x154\\x00\\\\x86\\\\xba\\x7f\\\\xb7dk\\\\xfe\\\\xb8g\\x01_\\\\xdbY\\\\xfc!K\\\\x82hŮ\\\\xe0e-\\\\xd2ww\\\\xd1\\\\xfb$ު${`ל\\x10\\x1bF7,\\\\xc4集hXĉ\\\\xdeF\\\\xc2bަ\\\\xa6\\\\xe4\\nE\\x12\\\\xdb\\\\xcb\\x08P\\x06\\\\x99\\x1eٳ-?\\\\xff4ڤ\\\\xa3sv\\\\xc3\\\\xcfG\\\\xd6l\\\\xee\\\\x8b\\\\xd1\\\\xe7\\x05=_\\x05,\\\\xe9\\\\x86\"\\\\x81\\\\xc0\\\\xbfn\\\\x81\\\\x9cW\"U\\x16\\\\xddO\\x11$\\\\x8f\\\\xedm\\x12g1ʇ?\\x16\\\\xca\\\\xe1D\\x0c\\\\xf8M\\\\xb3d\\\\xe7eq\\\\xe2\\\\xc4,U\\\\xa1\\\\xd2MBX\\\\xa8\\\\xa2U\\\\xb6v\\\\xc6,\\\\x8b_&\\\\x89x\\\\xa87\\\\xb4B\\\\xe4۞\\x08C\\x0b\\\\xa5\\x0b\\\\x84\\\\xaeT\\\\xd6\\\\xdat\\\\xc3\\\\xd3.\\x0c\\\\xfb\\\\\\\\xb8\\\\xe3\\x0b\\\\xe1\\\\xe2̙\\x18\\\\xe2\\\\xc3.\\\\xe0/\\\\x9c\\\\xa2oᴁ\\\\xa1\\\\xf0?d»n\\\\x81\\\\xc4M\\\\x93\\\\xc0\\\\xc9F%+\\\\xa5\\\\xa7\\\\xda\\r\\x06,\\\\xcaD\\\\xad \\\\xc0\\\\xae\\\\xba}\\\\xa7\\\\xb5\\\\x98\\\\xeb\\\\xfd\\\\x9787S\\\\xf7ūyarϔ\\\\xf0\\\\xd6N\\\\xa7(c\\x1b\\\\xc74&Vl\\\\xc7Fl\\\\xbb\\\\xb8\\\\xd4 +\\\\xa2\\\\xad؆yV[\\\\xed$\\\\xf3\\\\xaa\\\\xe9B3\\\\x8b]\\x08\\\\x94\\x02\\\\\\\\xad\\\\x825\\\\xe4S\\\\x80}[l\\\\xb7\\\\xe1CIQ\\\\xb2Ҋ\\\\x95\"\\\\x80e\\\\x90\\\\xa4\\\\xd9)\\x00\\\\xea\\\\xc6\\x1aÜP\\\\xfc\\\\xee\\\\x94\\\\xd1\\x04樛\\x0e\\\\x917v\\\\x8cy|(\\\\x86\\x16n\\\\xa7t\\\\xc6t\\\\xdaM\\\\xa7w\\\\xc1ǃ\\\\x81\\\\xbc\\\\xf0ܙ\\\\xde`o\\\\xb1pf\\x0b\\x04\\x1f\\\\xf9\\'\\\\xb9\\\\xac6,Ϗ\\\\xf6\\x16ը\\\\xd4\\x0bg\\\\xc9R\\\\xb0:\\\\x8egュ[\\x14\\x1d\\\\xbe\\\\xe9ƞ\\\\xc56\\\\xec+\\\\xe0\\\\xe1\\\\xa8\\\\xf7\\\\xa6\\\\xdd\\\\xc0\\\\x89,\\t\\\\x86\\\\xb2\\\\xf7\\\\x99bK\\\\xb6\\\\xe2\\\\x95 g\\\\xe3E\\\\x9eñ]\\\\xf3\\t\\x0b\\\\xean\\\\xc3\\\\xfa\\x15\\\\xefO\\\\xa6K\\\\xb4X2\\\\x8eC%\\\\xa2\\\\xda>\\\\xae\\x06\\x03늯Z\\\\xc0\\\\xd6%\\\\xb0ᐲ#\\\\x83\\\\xba\\\\xca\\\\xf3\\\\xd8\\x0e\\\\xd2\\\\xef\\r]+\\\\x9a\\\\xe7\\\\xd6\\nl\\x06\\x05\\\\xec\\\\x9c\\x07\\x00oU(\\\\xeez4\\\\xa2\\\\xd3\\\\xe0b=E@`J\\\\x8b\\x13e\\\\x89\\x16&J\\\\x91.\\\\xd9\\x0b@\\\\xb9\\\\xa8\\\\xc7W3\\\\x89\\\\xa6M\\\\xe0c\\\\xd5\\\\xe7\\\\xdcG\\\\xf2\\x06\\x03| \\\\xd6\\\\xf7\\\\xa1\\x08\\\\xa2B֖\\\\x8f\\\\x88\\x15\\\\xc7n}С\\\\x83R\\\\xd7R\\\\xf0\\x1f\\\\xb0\\\\x8b\\\\xa6p0\\\\xa8\\x07=\\\\xeaz\\\\xb8\\\\x93\\\\x8e\\\\xee?\\\\x84\\\\xa5G\\\\x81eD\\\\xcf\\\\xcd>XW d\\x00\\\\xea\\\\xdcƁ\\\\xdf\\x1b\\\\x97\\\\xd4\\\\xe8)>\\\\xad\\x14hUo\\\\x9c\\\\xf5\\x08~E\\\\x80\\\\xe5vJ\\\\xcf@\\\\x86V4\\\\xfcIdk;\\\\xc1\\\\xee\\\\x8dE\\\\xa9\\\\x9d\\\\xa8m(<e\\\\x9d\\\\xcf/\\\\xcfW\\\\x8c\\x10ʂ\\\\xf4\\x17%\\\\xfc\\x07\\\\xa7?f\\n\\\\xfdJK\\\\x8f\\x0f}\\\\x8e\\x00e\\\\x8a\\\\xe2x\\\\xdbT\\\\xc6=\\\\xab\\\\xf7\\\\xa3\\\\xe3\\\\x90\\x13\\\\xd3E8\\x07\\\\xe6p\\x1f5\\\\x98R4\\\\x8e\\\\xfe5\\\\x82\\\\x82\\u07bf\\x15\\\\xce\\\\xe7\\\\xb4M\\x1c\\x0c\\x04@\\x12v\\\\xe1\\\\xa5\\x10\\\\xd0ϰ\\\\x9fI\\\\xe0u\\\\xad\\x11\\\\xa3\\\\xadHR\\\\xf5}\\x18\\\\x8b\\x0c\\\\xba\\\\xe1|\\\\xedYK\\\\xf8\\\\x87\\x1e\\\\xd7h\\\\\\\\xbfAl\\\\x9e\\x0b;\\\\x8a}\\\\xf5\\x11^Q\\\\xff\\x0c\\\\x910D\\x0b<\\\\xa0\\\\xe0Y\\\\xf2\\\\x80\\\\xebE\\\\xf3\\\\xfc\\r\\x06\\\\xfd+m\\\\xb3\\\\xdaݵOa\\x04\\\\x881/\\uf5a4\\\\x86\\\\xb7'\n\n"
     ]
    }
   ],
   "source": []
  },
  {
   "source": [
    "## Section 4 - Security Implications ##"
   ],
   "cell_type": "markdown",
   "metadata": {}
  },
  {
   "cell_type": "code",
   "execution_count": null,
   "metadata": {},
   "outputs": [],
   "source": []
  },
  {
   "source": [],
   "cell_type": "markdown",
   "metadata": {}
  },
  {
   "source": [
    "## Section 5 - The Significance of CyberAnalytics ##"
   ],
   "cell_type": "markdown",
   "metadata": {}
  },
  {
   "cell_type": "code",
   "execution_count": null,
   "metadata": {},
   "outputs": [],
   "source": []
  }
 ]
}
{
 "metadata": {
  "language_info": {
   "codemirror_mode": {
    "name": "ipython",
    "version": 3
   },
   "file_extension": ".py",
   "mimetype": "text/x-python",
   "name": "python",
   "nbconvert_exporter": "python",
   "pygments_lexer": "ipython3",
   "version": "3.7.6"
  },
  "orig_nbformat": 2,
  "kernelspec": {
   "name": "python376jvsc74a57bd0ab6c576cf668ff14d29f0d02eb553fc3cd559ce35bc756069a1f2fa3e90fc2ba",
   "display_name": "Python 3.7.6 64-bit"
  },
  "metadata": {
   "interpreter": {
    "hash": "ab6c576cf668ff14d29f0d02eb553fc3cd559ce35bc756069a1f2fa3e90fc2ba"
   }
  }
 },
 "nbformat": 4,
 "nbformat_minor": 2,
 "cells": [
  {
   "source": [
    "# Module 6 #\n",
    "### Expected Time to Complete: 6hrs ###\n",
    "### Total Marks: 15 marks ### "
   ],
   "cell_type": "markdown",
   "metadata": {}
  },
  {
   "source": [
    "## About ##"
   ],
   "cell_type": "markdown",
   "metadata": {}
  },
  {
   "source": [
    "This Jupyter Notebook contains all of the portfolio assessment related to Module 6. The assessment tasks start off with some simple data I/O tasks and gradually build up to more complicated data access tasks that deal with different formats and different platforms. The focus of these tasks is on building the skills that are required for accessing data - from very simple data I/O to more complex data access. Such skills are a critical but often overlooked part of data analysis. We will also be working with data from our case study 'Credit Card Fraud Detection' in this notebook. Cyber Analytics is the broader theme of the course so we try to ensure that you have as many opportunities as possible to work with that type of data. \n",
    "\n",
    "Please ensure you refer to the marking rubric for this assessment item while completing the following assessment tasks."
   ],
   "cell_type": "markdown",
   "metadata": {}
  },
  {
   "source": [
    "## Section 1 - Data Access Basics ##"
   ],
   "cell_type": "markdown",
   "metadata": {}
  },
  {
   "source": [
    "### Section 1.1 - Data Access Fundamentals ###"
   ],
   "cell_type": "markdown",
   "metadata": {}
  },
  {
   "source": [
    "Following along with Mark Quinn's (2017) YouTube video on basic data I/O write a block of code that takes a 7 digit user security code plus their username and displays it to the screen. Also include a check on the security code."
   ],
   "cell_type": "markdown",
   "metadata": {}
  },
  {
   "cell_type": "code",
   "execution_count": null,
   "metadata": {},
   "outputs": [],
   "source": []
  },
  {
   "source": [
    "### Section 1.2 - Formatting Output ###"
   ],
   "cell_type": "markdown",
   "metadata": {}
  },
  {
   "source": [
    "Using the official python docs tutorial as a reference use formatted string literals (f-strings) to output a customer name and their credit card number using appropriate variables"
   ],
   "cell_type": "markdown",
   "metadata": {}
  },
  {
   "cell_type": "code",
   "execution_count": null,
   "metadata": {},
   "outputs": [],
   "source": []
  },
  {
   "source": [
    "Perform the same function as in the above but with the str.format() method"
   ],
   "cell_type": "markdown",
   "metadata": {}
  },
  {
   "cell_type": "code",
   "execution_count": null,
   "metadata": {},
   "outputs": [],
   "source": []
  },
  {
   "source": [
    "Using f-strings create a table that has two columns (customer name, credit card number) and four rows of data. Output this in a way that ensures the columns will always line up (hint: ensure a minimum number of characters via ':')  "
   ],
   "cell_type": "markdown",
   "metadata": {}
  },
  {
   "cell_type": "code",
   "execution_count": null,
   "metadata": {},
   "outputs": [],
   "source": []
  },
  {
   "source": [
    "Perform the same as in the above but using the string format method"
   ],
   "cell_type": "markdown",
   "metadata": {}
  },
  {
   "cell_type": "code",
   "execution_count": null,
   "metadata": {},
   "outputs": [],
   "source": []
  },
  {
   "source": [
    "Let's try this now with manual string formatting using a combination of left and right jusification for the customer name and credit card numbers"
   ],
   "cell_type": "markdown",
   "metadata": {}
  },
  {
   "cell_type": "code",
   "execution_count": null,
   "metadata": {},
   "outputs": [],
   "source": []
  },
  {
   "source": [
    "And now the same thing using old string formatting (ie. % operator)"
   ],
   "cell_type": "markdown",
   "metadata": {}
  },
  {
   "source": [
    "## Section 2 - Accessing Data (Different Formats, Different Plaforms) ##"
   ],
   "cell_type": "markdown",
   "metadata": {}
  },
  {
   "source": [
    "### Section 2.1 - Reading and Writing Files ###"
   ],
   "cell_type": "markdown",
   "metadata": {}
  },
  {
   "source": [
    "Following the official python docs tutorial create and open a file called customers in read and write mode."
   ],
   "cell_type": "markdown",
   "metadata": {}
  },
  {
   "cell_type": "code",
   "execution_count": null,
   "metadata": {},
   "outputs": [],
   "source": []
  },
  {
   "source": [
    "If you wanted to avoid problems caused by loading an extremely large file into memory show how you would do so"
   ],
   "cell_type": "markdown",
   "metadata": {}
  },
  {
   "cell_type": "code",
   "execution_count": null,
   "metadata": {},
   "outputs": [],
   "source": []
  },
  {
   "source": [
    "Show two different methods for reading lines from a file (all of the lines)"
   ],
   "cell_type": "markdown",
   "metadata": {}
  },
  {
   "cell_type": "code",
   "execution_count": null,
   "metadata": {},
   "outputs": [],
   "source": []
  },
  {
   "source": [
    "In the customers file you created previously write the following customer value to the file:\n",
    "customer = ('Dali Lama', 47, 78965432)"
   ],
   "cell_type": "markdown",
   "metadata": {}
  },
  {
   "cell_type": "code",
   "execution_count": null,
   "metadata": {},
   "outputs": [],
   "source": []
  },
  {
   "source": [
    "Show how you would write the following dictionary to a file called 'security_customers'. Make sure you do so in a way that is easy, allows for interoperability and incorporates best practice.\n"
   ],
   "cell_type": "markdown",
   "metadata": {}
  },
  {
   "cell_type": "code",
   "execution_count": 17,
   "metadata": {},
   "outputs": [],
   "source": [
    "customers = {50789: {'name': 'Baptiste', 'age': '52', 'status': 0},\n",
    "             72658: {'name': 'Helena', 'age': '26', 'status': 1}}"
   ]
  },
  {
   "source": [
    "### Section 2.2 - Files and Exceptions###"
   ],
   "cell_type": "markdown",
   "metadata": {}
  },
  {
   "source": [
    "Append the following customers to your previously created file 'security_customers'"
   ],
   "cell_type": "markdown",
   "metadata": {}
  },
  {
   "cell_type": "code",
   "execution_count": null,
   "metadata": {},
   "outputs": [],
   "source": [
    "new_customers = {60793: {'name': 'Mary', 'age': '15', 'status': 1},\n",
    "             72658: {'name': 'Barry', 'age': '32', 'status': 1}}"
   ]
  },
  {
   "cell_type": "code",
   "execution_count": null,
   "metadata": {},
   "outputs": [],
   "source": []
  },
  {
   "source": [
    "Open the file 'security_customers' and read the entire file"
   ],
   "cell_type": "markdown",
   "metadata": {}
  },
  {
   "cell_type": "code",
   "execution_count": null,
   "metadata": {},
   "outputs": [],
   "source": []
  },
  {
   "source": [
    "Write an exception block for the case where the file doesn't exist. To avoid a FileNotFoundError allow the program to fail silently."
   ],
   "cell_type": "markdown",
   "metadata": {}
  },
  {
   "cell_type": "code",
   "execution_count": null,
   "metadata": {},
   "outputs": [],
   "source": []
  },
  {
   "source": [
    "Write a more appropriate exception block for the case where the file does not exist. In this case provide a useful message to the user."
   ],
   "cell_type": "markdown",
   "metadata": {}
  },
  {
   "cell_type": "code",
   "execution_count": null,
   "metadata": {},
   "outputs": [],
   "source": []
  },
  {
   "source": [
    "### Section 2.4 - Data Loading, Storage and File Formats###"
   ],
   "cell_type": "markdown",
   "metadata": {}
  },
  {
   "source": [
    "In this section we are going to start working with a data set that is specific to the cyber analytics context. This is the Kaggle Credit card fraud data set which can be found here: https://www.kaggle.com/mlg-ulb/creditcardfraud "
   ],
   "cell_type": "markdown",
   "metadata": {}
  },
  {
   "source": [
    "Using McKinney(2017) as a guide load the Kaggle credit card data into a pandas dataframe. Make sure that you account for the column names appropriately (demonstrating that you have taken time to understand the data) as well as potential missing values."
   ],
   "cell_type": "markdown",
   "metadata": {}
  },
  {
   "cell_type": "code",
   "execution_count": null,
   "metadata": {},
   "outputs": [],
   "source": []
  },
  {
   "source": [
    "Using the appropriate method of read_csv find out how much memory the data uses."
   ],
   "cell_type": "markdown",
   "metadata": {}
  },
  {
   "cell_type": "code",
   "execution_count": null,
   "metadata": {},
   "outputs": [],
   "source": []
  },
  {
   "source": [
    "Provide commentary below on whether this particular file is considered 'large' and exactly what impact this has. Either demonstrate this with code or provide references to back up your assertion."
   ],
   "cell_type": "markdown",
   "metadata": {}
  },
  {
   "cell_type": "code",
   "execution_count": null,
   "metadata": {},
   "outputs": [],
   "source": []
  },
  {
   "source": [
    "Show three ways in which you can avoid taking up too much memory by reading a large file. Demonstrate this with the Kaggle data set."
   ],
   "cell_type": "markdown",
   "metadata": {}
  },
  {
   "cell_type": "code",
   "execution_count": null,
   "metadata": {},
   "outputs": [],
   "source": []
  },
  {
   "source": [
    "The Pandas documentation introduced in Section 2.3 show how to look at performance metrics for different IO methods. Reproduce this here but use the Kaggle data to do so. "
   ],
   "cell_type": "markdown",
   "metadata": {}
  },
  {
   "cell_type": "code",
   "execution_count": null,
   "metadata": {},
   "outputs": [],
   "source": []
  },
  {
   "source": [
    "Comment on what your top three performers are in terms of speed. How does this relate to the pandas documentation? If there are differences comment on why you believe there are differences. "
   ],
   "cell_type": "markdown",
   "metadata": {}
  },
  {
   "cell_type": "code",
   "execution_count": null,
   "metadata": {},
   "outputs": [],
   "source": []
  },
  {
   "source": [
    "Based on these tests plus what you know about these methods what would your recommended IO method be for this particular data set? Justify your recommendation."
   ],
   "cell_type": "markdown",
   "metadata": {}
  },
  {
   "cell_type": "code",
   "execution_count": null,
   "metadata": {},
   "outputs": [],
   "source": []
  },
  {
   "source": [
    "Write the Kaggle data set to a sqlite database and then show how you would load this data from the database into a pandas dataframe."
   ],
   "cell_type": "markdown",
   "metadata": {}
  },
  {
   "cell_type": "code",
   "execution_count": null,
   "metadata": {},
   "outputs": [],
   "source": []
  },
  {
   "source": [
    "## Section 3 - Creating Coherent Data Sets (PCAP mini-project) ##"
   ],
   "cell_type": "markdown",
   "metadata": {}
  },
  {
   "source": [
    "In the following sections of this notebook you should address the following requirements:\n",
    "\n",
    "    1) Use scapy to capture, load and store packets to a pcap file\n",
    "    2) Convert data in your pcap file to a workable Pandas DataFrame\n",
    "    3) Gather some third party malicious or exploit pcaps (or develop your own)\n",
    "    4) Convert these third party pcap files to workable Pandas DataFrame consistent with the one in step 2 above\n"
   ],
   "cell_type": "markdown",
   "metadata": {}
  },
  {
   "source": [
    "For 1) and 2) above we recommend Ronald Eddings blog post 'Learning Packet Analysis with Data Science' (https://medium.com/hackervalleystudio/learning-packet-analysis-with-data-science-5356a3340d4e) and the official Scapy docs (https://scapy.readthedocs.io/en/latest/introduction.html). For step 3 you can find some malicious and exploit pcaps on Contagio here (http://contagiodump.blogspot.com/2013/04/collection-of-pcap-files-from-malware.html)"
   ],
   "cell_type": "markdown",
   "metadata": {}
  },
  {
   "cell_type": "code",
   "execution_count": null,
   "metadata": {},
   "outputs": [],
   "source": []
  },
  {
   "source": [
    "## Section 4 - Security Implications ##"
   ],
   "cell_type": "markdown",
   "metadata": {}
  }
 ]
}
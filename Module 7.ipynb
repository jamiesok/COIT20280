{
 "metadata": {
  "language_info": {
   "codemirror_mode": {
    "name": "ipython",
    "version": 3
   },
   "file_extension": ".py",
   "mimetype": "text/x-python",
   "name": "python",
   "nbconvert_exporter": "python",
   "pygments_lexer": "ipython3",
   "version": 3
  },
  "orig_nbformat": 2
 },
 "nbformat": 4,
 "nbformat_minor": 2,
 "cells": [
  {
   "source": [
    "# Module 7 #\n",
    "### Expected Time to Complete: 10 hrs ###\n",
    "### Total Marks: 18 marks ### "
   ],
   "cell_type": "markdown",
   "metadata": {}
  },
  {
   "source": [
    "## About ##"
   ],
   "cell_type": "markdown",
   "metadata": {}
  },
  {
   "source": [
    "This Jupyter Notebook contains all of the portfolio assessment related to Module 7. more here... write this after..."
   ],
   "cell_type": "markdown",
   "metadata": {}
  },
  {
   "source": [
    "## Section 1 - Dirty Data: classes and downstream effects (x marks)## \n"
   ],
   "cell_type": "markdown",
   "metadata": {}
  },
  {
   "cell_type": "code",
   "execution_count": null,
   "metadata": {},
   "outputs": [],
   "source": []
  }
 ]
}
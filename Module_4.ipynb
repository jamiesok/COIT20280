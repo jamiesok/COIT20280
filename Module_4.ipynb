{
 "metadata": {
  "language_info": {
   "codemirror_mode": {
    "name": "ipython",
    "version": 3
   },
   "file_extension": ".py",
   "mimetype": "text/x-python",
   "name": "python",
   "nbconvert_exporter": "python",
   "pygments_lexer": "ipython3",
   "version": "3.8.10"
  },
  "orig_nbformat": 2,
  "kernelspec": {
   "name": "python3",
   "display_name": "Python 3.8.10 64-bit"
  },
  "metadata": {
   "interpreter": {
    "hash": "31f2aee4e71d21fbe5cf8b01ff0e069b9275f58929596ceb00d14d90e3e16cd6"
   }
  },
  "interpreter": {
   "hash": "31f2aee4e71d21fbe5cf8b01ff0e069b9275f58929596ceb00d14d90e3e16cd6"
  }
 },
 "nbformat": 4,
 "nbformat_minor": 2,
 "cells": [
  {
   "source": [
    "# Module 4 - Solutions & Notes # "
   ],
   "cell_type": "markdown",
   "metadata": {}
  },
  {
   "source": [
    "## 1. Python Basics ##"
   ],
   "cell_type": "markdown",
   "metadata": {}
  },
  {
   "source": [
    "In this section we are going to go through some of the main concepts introduced in Sections 3, 4 and 6 of The Official Python Tutorial (see: https://docs.python.org/3/tutorial/). The purpose of this section is to go through the basics of Python. Most of the tasks are meant to be straightforward and to consolidate what you have already learnt in this tutorial.  "
   ],
   "cell_type": "markdown",
   "metadata": {}
  },
  {
   "source": [
    "### Strings ###"
   ],
   "cell_type": "markdown",
   "metadata": {}
  },
  {
   "source": [
    "In the code cell below print 'Hello World!' to the screen. Refer Section 3.1 of The Official Python Tutorial"
   ],
   "cell_type": "markdown",
   "metadata": {}
  },
  {
   "cell_type": "code",
   "execution_count": 1,
   "metadata": {},
   "outputs": [
    {
     "output_type": "stream",
     "name": "stdout",
     "text": [
      "Hello World!\n"
     ]
    }
   ],
   "source": []
  },
  {
   "source": [
    "This time put your message 'Hello World' in a variable and print this to the screen"
   ],
   "cell_type": "markdown",
   "metadata": {}
  },
  {
   "cell_type": "code",
   "execution_count": 2,
   "metadata": {},
   "outputs": [
    {
     "output_type": "stream",
     "name": "stdout",
     "text": [
      "Hello World!\n"
     ]
    }
   ],
   "source": []
  },
  {
   "source": [
    "Now, using slicing print only the first 5 characters of your message ie. 'Hello'. Hint slice your variable appropriately and print that to the screen"
   ],
   "cell_type": "markdown",
   "metadata": {}
  },
  {
   "cell_type": "code",
   "execution_count": 3,
   "metadata": {},
   "outputs": [
    {
     "output_type": "stream",
     "name": "stdout",
     "text": [
      "Hello\n"
     ]
    }
   ],
   "source": []
  },
  {
   "source": [
    "Using slicing print the last word of your message ie. 'World'. Hint: no exclamation mark."
   ],
   "cell_type": "markdown",
   "metadata": {}
  },
  {
   "cell_type": "code",
   "execution_count": 4,
   "metadata": {},
   "outputs": [
    {
     "output_type": "stream",
     "name": "stdout",
     "text": [
      "World\n"
     ]
    }
   ],
   "source": []
  },
  {
   "source": [
    "Now add these two slices together to create your full original message. Hint you may need to add another couple of variable to get to your original message.  "
   ],
   "cell_type": "markdown",
   "metadata": {}
  },
  {
   "cell_type": "code",
   "execution_count": 5,
   "metadata": {},
   "outputs": [
    {
     "output_type": "stream",
     "name": "stdout",
     "text": [
      "Hello World!\n"
     ]
    }
   ],
   "source": []
  },
  {
   "source": [
    "Now change your message to print 'Hello Jupyter!'. Use your original message as much as possible (rely on slicing) and the variables you have already created to do so."
   ],
   "cell_type": "markdown",
   "metadata": {}
  },
  {
   "cell_type": "code",
   "execution_count": 6,
   "metadata": {},
   "outputs": [
    {
     "output_type": "stream",
     "name": "stdout",
     "text": [
      "Hello Jupyter!\n"
     ]
    }
   ],
   "source": []
  },
  {
   "source": [
    "### Lists ###"
   ],
   "cell_type": "markdown",
   "metadata": {}
  },
  {
   "source": [
    "In the following code cell we have a list of IP addresses used to test Internet connections (from https://etherealmind.com/what-is-the-best-ip-address-to-ping-to-test-my-internet-connection/) "
   ],
   "cell_type": "markdown",
   "metadata": {}
  },
  {
   "cell_type": "code",
   "execution_count": 7,
   "metadata": {},
   "outputs": [],
   "source": [
    "IP_addresses = ['8.8.8.8','8.8.4.4','139.130.4.5','208.67.222.222','208.67.220.220']"
   ]
  },
  {
   "source": [
    "Now using concatenation add the cloudfare DNS services at 1.1.1.1 and 1.0.0.1. Output to the screen so that you know they have been added."
   ],
   "cell_type": "markdown",
   "metadata": {}
  },
  {
   "cell_type": "code",
   "execution_count": 8,
   "metadata": {},
   "outputs": [
    {
     "output_type": "execute_result",
     "data": {
      "text/plain": [
       "['8.8.8.8',\n",
       " '8.8.4.4',\n",
       " '139.130.4.5',\n",
       " '208.67.222.222',\n",
       " '208.67.220.220',\n",
       " '1.1.1.1',\n",
       " '1.0.0.1']"
      ]
     },
     "metadata": {},
     "execution_count": 8
    }
   ],
   "source": []
  },
  {
   "source": [
    "Now using append add the Norton DNS servers 198.153.192.1 and 198.153.194.2 to the end of that list. Again make sure you output to the screen so that you know it has been appended to the original list."
   ],
   "cell_type": "markdown",
   "metadata": {}
  },
  {
   "cell_type": "code",
   "execution_count": 9,
   "metadata": {},
   "outputs": [
    {
     "output_type": "stream",
     "name": "stdout",
     "text": [
      "['8.8.8.8', '8.8.4.4', '139.130.4.5', '208.67.222.222', '208.67.220.220', '1.1.1.1', '1.0.0.1', '198.153.192.1', '198.153.194.2']\n"
     ]
    }
   ],
   "source": []
  },
  {
   "source": [
    "We have decided not to include Norton now due to some security issues so we need to get them off our list. Remove them from our IP_addresses in the code cell below. Output your list to the screen so that you can confirm they have been removed."
   ],
   "cell_type": "markdown",
   "metadata": {}
  },
  {
   "cell_type": "code",
   "execution_count": 10,
   "metadata": {},
   "outputs": [
    {
     "output_type": "execute_result",
     "data": {
      "text/plain": [
       "['8.8.8.8',\n",
       " '8.8.4.4',\n",
       " '139.130.4.5',\n",
       " '208.67.222.222',\n",
       " '208.67.220.220',\n",
       " '1.1.1.1',\n",
       " '1.0.0.1']"
      ]
     },
     "metadata": {},
     "execution_count": 10
    }
   ],
   "source": []
  },
  {
   "source": [
    "### Basic Programming ###"
   ],
   "cell_type": "markdown",
   "metadata": {}
  },
  {
   "source": [
    "In the code cell below create a while loop that will loop through all numbers starting from zero but less than 20 and will put them into lists of either odd or even. Make sure you print out the lists so that you know they worked.\n",
    "\n",
    "Hint: this is a combination of 3.1.1 (take note of the modulus operator) and 3.2 in the Python Introduction Tutorial as well as section 2.3 of McKinney(2017). You may also just want to quickly check out the syntax for the while loop (see for example: https://realpython.com/python-while-loop/#the-while-loop) "
   ],
   "cell_type": "markdown",
   "metadata": {}
  },
  {
   "cell_type": "code",
   "execution_count": 11,
   "metadata": {
    "tags": []
   },
   "outputs": [
    {
     "output_type": "stream",
     "name": "stdout",
     "text": [
      "[1, 3, 5, 7, 9, 11, 13, 15, 17, 19]\n[0, 2, 4, 6, 8, 10, 12, 14, 16, 18]\n"
     ]
    }
   ],
   "source": []
  },
  {
   "source": [
    "Now write a function for testing whether a number is odd or evens. Put this in the code cell below"
   ],
   "cell_type": "markdown",
   "metadata": {}
  },
  {
   "cell_type": "code",
   "execution_count": 12,
   "metadata": {},
   "outputs": [],
   "source": []
  },
  {
   "source": [
    "Use this function to test for all numbers less than 20. Like you did previously set up your lists for odds and evens and print them out to ensure your code has worked."
   ],
   "cell_type": "markdown",
   "metadata": {}
  },
  {
   "cell_type": "code",
   "execution_count": 13,
   "metadata": {},
   "outputs": [
    {
     "output_type": "stream",
     "name": "stdout",
     "text": [
      "[1, 3, 5, 7, 9, 11, 13, 15, 17, 19]\n[0, 2, 4, 6, 8, 10, 12, 14, 16, 18]\n"
     ]
    }
   ],
   "source": []
  },
  {
   "source": [
    "Change the above so that rather than a while loop it uses the range function "
   ],
   "cell_type": "markdown",
   "metadata": {}
  },
  {
   "cell_type": "code",
   "execution_count": 14,
   "metadata": {},
   "outputs": [
    {
     "output_type": "stream",
     "name": "stdout",
     "text": [
      "[1, 3, 5, 7, 9, 11, 13, 15, 17, 19]\n[0, 2, 4, 6, 8, 10, 12, 14, 16, 18]\n"
     ]
    }
   ],
   "source": []
  },
  {
   "source": [
    "## 2. Python Built-in Structures and Functions ##"
   ],
   "cell_type": "markdown",
   "metadata": {}
  },
  {
   "source": [
    "### More Lists ###\n",
    "In this section we are going to use the following IP addresses as a list (addresses are taken from https://etherealmind.com/what-is-the-best-ip-address-to-ping-to-test-my-internet-connection/)"
   ],
   "cell_type": "markdown",
   "metadata": {}
  },
  {
   "cell_type": "code",
   "execution_count": 15,
   "metadata": {},
   "outputs": [],
   "source": [
    "IP_addresses = ['8.8.8.8','8.8.4.4','139.130.4.5','208.67.222.222','208.67.220.220','1.1.1.1','1.0.0.1','198.153.192.1','198.153.194.2','139.130.4.5']"
   ]
  },
  {
   "source": [
    "In the code cell below extend the IP_addresses list by adding the following IP addresses ('205.210.42.205' and '64.68.200.200') from DNSResolvers.com. Print out the IP_addresses list to make sure that your extension has worked."
   ],
   "cell_type": "markdown",
   "metadata": {}
  },
  {
   "cell_type": "code",
   "execution_count": 16,
   "metadata": {},
   "outputs": [
    {
     "output_type": "stream",
     "name": "stdout",
     "text": [
      "['8.8.8.8', '8.8.4.4', '139.130.4.5', '208.67.222.222', '208.67.220.220', '1.1.1.1', '1.0.0.1', '198.153.192.1', '198.153.194.2', '139.130.4.5', '205.210.42.205', '64.68.200.200']\n"
     ]
    }
   ],
   "source": []
  },
  {
   "source": [
    "Now get the indexes of the two addresses you have just added from DNSResolvers. Print these to screen."
   ],
   "cell_type": "markdown",
   "metadata": {}
  },
  {
   "cell_type": "code",
   "execution_count": 17,
   "metadata": {},
   "outputs": [
    {
     "output_type": "stream",
     "name": "stdout",
     "text": [
      "Index 1: 10\nIndex 2: 11\n"
     ]
    }
   ],
   "source": []
  },
  {
   "source": [
    "Let's try to sort the IP_addresses list with the list sort function. Print this out to see what sort has done to the IP_addresses list."
   ],
   "cell_type": "markdown",
   "metadata": {}
  },
  {
   "cell_type": "code",
   "execution_count": 18,
   "metadata": {},
   "outputs": [
    {
     "output_type": "execute_result",
     "data": {
      "text/plain": [
       "['1.0.0.1',\n",
       " '1.1.1.1',\n",
       " '139.130.4.5',\n",
       " '139.130.4.5',\n",
       " '198.153.192.1',\n",
       " '198.153.194.2',\n",
       " '205.210.42.205',\n",
       " '208.67.220.220',\n",
       " '208.67.222.222',\n",
       " '64.68.200.200',\n",
       " '8.8.4.4',\n",
       " '8.8.8.8']"
      ]
     },
     "metadata": {},
     "execution_count": 18
    }
   ],
   "source": []
  },
  {
   "source": [
    "One thing you might notice now after having sorted the IP_address list that you mightn't have noticed at first is that the IP address '139.130.4.5' appears twice. Let's remove the first item that has this value in our IP_addresses list. Again, print the IP_addresses list to screen so that you know your item has been removed."
   ],
   "cell_type": "markdown",
   "metadata": {}
  },
  {
   "cell_type": "code",
   "execution_count": 19,
   "metadata": {},
   "outputs": [
    {
     "output_type": "execute_result",
     "data": {
      "text/plain": [
       "['1.0.0.1',\n",
       " '1.1.1.1',\n",
       " '139.130.4.5',\n",
       " '198.153.192.1',\n",
       " '198.153.194.2',\n",
       " '205.210.42.205',\n",
       " '208.67.220.220',\n",
       " '208.67.222.222',\n",
       " '64.68.200.200',\n",
       " '8.8.4.4',\n",
       " '8.8.8.8']"
      ]
     },
     "metadata": {},
     "execution_count": 19
    }
   ],
   "source": []
  },
  {
   "source": [
    "One other thing that you will notice is that our sorted list seems a little strange. For example, the address '64.68.200.200' comes before the address '8.8.4.4'. We will use this problem to go through some other built-in structures within Python and also develop some functions. At the end we will have our IP_addresses list sorted in the way that we want it."
   ],
   "cell_type": "markdown",
   "metadata": {}
  },
  {
   "source": [
    "### Tuples ###"
   ],
   "cell_type": "markdown",
   "metadata": {}
  },
  {
   "source": [
    "As described in the following post (see https://stackoverflow.com/questions/6545023/how-to-sort-ip-addresses-stored-in-dictionary-in-python) one way of being able to sort our IP address list in the way that we want relies firstly on splitting the IP_address into a tuple. In the code cells below we are going to go through the process of splitting the IP_address (given as a string) into a tuple. "
   ],
   "cell_type": "markdown",
   "metadata": {}
  },
  {
   "cell_type": "code",
   "execution_count": 20,
   "metadata": {},
   "outputs": [],
   "source": [
    "IP_address = '205.210.42.205'"
   ]
  },
  {
   "source": [
    "In the code cell below use the split method to split the IP_address variable on the '.' character. Store the results of this in another variable. Output the variable to the screen to ensure it has worked."
   ],
   "cell_type": "markdown",
   "metadata": {}
  },
  {
   "cell_type": "code",
   "execution_count": 21,
   "metadata": {},
   "outputs": [
    {
     "output_type": "execute_result",
     "data": {
      "text/plain": [
       "['205', '210', '42', '205']"
      ]
     },
     "metadata": {},
     "execution_count": 21
    }
   ],
   "source": []
  },
  {
   "source": [
    "Ok so let's check the type of this variable in the cell below. Note that the docs tell us what type of variable this is (see https://docs.python.org/3/library/stdtypes.html#str.split) but let's check it now to confirm what our variable type is. Remember that in Python variables can be called anything and this can lead to confusion in some cases. However, one of the great benefits of Python is that it also keeps track of the datatype internally. Hence, we can always query Python to see what datatype our variables are. \n",
    "\n",
    "Use the type() method (see https://docs.python.org/3/library/functions.html#type) on your variable from the code cell above to see what it's type is."
   ],
   "cell_type": "markdown",
   "metadata": {}
  },
  {
   "cell_type": "code",
   "execution_count": 22,
   "metadata": {},
   "outputs": [
    {
     "output_type": "execute_result",
     "data": {
      "text/plain": [
       "list"
      ]
     },
     "metadata": {},
     "execution_count": 22
    }
   ],
   "source": []
  },
  {
   "source": [
    "So now we know that we do have a list. But what about each item that is stored in the list? Write a for loop that iterates over the list checking the datatype of each element in the list and simply prints the datatype to the screen."
   ],
   "cell_type": "markdown",
   "metadata": {}
  },
  {
   "cell_type": "code",
   "execution_count": 23,
   "metadata": {},
   "outputs": [
    {
     "output_type": "stream",
     "name": "stdout",
     "text": [
      "<class 'str'>\n<class 'str'>\n<class 'str'>\n<class 'str'>\n"
     ]
    }
   ],
   "source": []
  },
  {
   "source": [
    "You should see in the above results that each element is a Data Type: <class 'str'>. That is, a string. However, for our sort function to work in the way that we want each element has to be a numeric data type: an integer type here is what we want. In the code cell below write a for loop that goes through each element of the list and casts it to an integer type - make use of the enumerate function here. See https://docs.python.org/3/library/stdtypes.html for more information on casting to an integer."
   ],
   "cell_type": "markdown",
   "metadata": {}
  },
  {
   "cell_type": "code",
   "execution_count": 24,
   "metadata": {},
   "outputs": [],
   "source": []
  },
  {
   "source": [
    "Now loop through your list like you did previously (in the code cell previous to the one above) checking the datatype of each element in the list. There should be no need to change any of the code - just reproduce it below:"
   ],
   "cell_type": "markdown",
   "metadata": {}
  },
  {
   "cell_type": "code",
   "execution_count": 25,
   "metadata": {},
   "outputs": [
    {
     "output_type": "stream",
     "name": "stdout",
     "text": [
      "<class 'int'>\n<class 'int'>\n<class 'int'>\n<class 'int'>\n"
     ]
    }
   ],
   "source": []
  },
  {
   "source": [
    "In the above results you should see <class 'int'> printed four times. This means that you have successfully casted the elements in your list to integers. If you still see <class 'str'> then you haven't successfully cast the elements in your list to integers. Go back to the code cell where you did this and have another look at it. Firstly, make sure that you are firstly casting each element in the list to an integer type. Secondly make sure that you are accessing that elements index in the list and changing it to this new type.  "
   ],
   "cell_type": "markdown",
   "metadata": {}
  },
  {
   "source": [
    "Now let's change our list to a tuple. It should be pointed out here that assigning an IP_address to a tuple type is the most logical thing to do. An IP address is made up of four numbers and it is these numbers in their unique positions that allows us to identify each device connected to a computer network. It is important that the integrity of the address is protected. Changing the address from a list to a tuple here ensures that this is so - the IP address cannot be manipulated later on (either accidentally or on purpose). \n",
    "\n",
    "Go ahead and do that now. This is a simple one line of code that casts the list to a tuple. "
   ],
   "cell_type": "markdown",
   "metadata": {}
  },
  {
   "cell_type": "code",
   "execution_count": 26,
   "metadata": {},
   "outputs": [],
   "source": []
  },
  {
   "source": [
    "Let's now check the datatype of the 'list' now - note that we are not expecting it to be a list datatype"
   ],
   "cell_type": "markdown",
   "metadata": {}
  },
  {
   "cell_type": "code",
   "execution_count": 27,
   "metadata": {},
   "outputs": [
    {
     "output_type": "execute_result",
     "data": {
      "text/plain": [
       "tuple"
      ]
     },
     "metadata": {},
     "execution_count": 27
    }
   ],
   "source": []
  },
  {
   "source": [
    "In the above if you have managed to still get a list as the datatype go back to where you cast your list to a tuple. Make sure that you have created a variable to receive the casted tuple. This can be a new variable name or you can use the old variable name. Then check the type of that variable. "
   ],
   "cell_type": "markdown",
   "metadata": {}
  },
  {
   "source": [
    "### Dictionary ###"
   ],
   "cell_type": "markdown",
   "metadata": {}
  },
  {
   "source": [
    "Dictionaries are commonplace in Python programming and are useful when we need to store key, value pairs. Let's have a look at this with our IP_address list. Something that may be useful to know about an IP_address is it's associated server. Go ahead and construct a dictionary for all of the IP addresses that link the IP address with it's associated server eg. IP address 8.8.8.8 is linked with Google. See https://etherealmind.com/what-is-the-best-ip-address-to-ping-to-test-my-internet-connection/ for details of all IP addresses and which IP address is linked to which server. Note here that the ipaddress module - the IPv4/IPv6 manipulation library - the module that you should use if you need to do any practical work with IP addresses implements their IP addresses as hashable objects 'so that they can be used as keys in dictionaries' (see: https://docs.python.org/3/library/ipaddress.html) similar to the way we use them here. For those who are interested see (https://docs.python.org/3/howto/ipaddress.html) for an introduction on the module."
   ],
   "cell_type": "markdown",
   "metadata": {}
  },
  {
   "cell_type": "code",
   "execution_count": 28,
   "metadata": {},
   "outputs": [],
   "source": []
  },
  {
   "source": [
    "Now print the IP_addresses dictionary to screen to see what's in your variable"
   ],
   "cell_type": "markdown",
   "metadata": {}
  },
  {
   "cell_type": "code",
   "execution_count": 29,
   "metadata": {},
   "outputs": [
    {
     "output_type": "execute_result",
     "data": {
      "text/plain": [
       "{'8.8.8.8': 'Google',\n",
       " '8.8.4.4': 'Google',\n",
       " '139.130.4.5': 'Telstra',\n",
       " '208.67.222.222': 'OpenDNS',\n",
       " '208.67.220.220': 'OpenDNS',\n",
       " '1.1.1.1': 'Cloudflare',\n",
       " '1.0.0.1': 'Cloudflare',\n",
       " '198.153.192.1': 'Norton',\n",
       " '198.153.194.2': 'Norton',\n",
       " '205.210.42.205': 'DNSResolvers',\n",
       " '64.68.200.200': 'DNSResolvers'}"
      ]
     },
     "metadata": {},
     "execution_count": 29
    }
   ],
   "source": []
  },
  {
   "source": [
    "Now let's check the datatype of the variable to check that we do indeed have a dict datatype"
   ],
   "cell_type": "markdown",
   "metadata": {}
  },
  {
   "cell_type": "code",
   "execution_count": 30,
   "metadata": {},
   "outputs": [
    {
     "output_type": "execute_result",
     "data": {
      "text/plain": [
       "dict"
      ]
     },
     "metadata": {},
     "execution_count": 30
    }
   ],
   "source": []
  },
  {
   "source": [
    "If you get any result other than a dict in the above go back and check your code. In the following cell let's look up what server is associated with the IP address 1.1.1.1"
   ],
   "cell_type": "markdown",
   "metadata": {}
  },
  {
   "cell_type": "code",
   "execution_count": 31,
   "metadata": {},
   "outputs": [
    {
     "output_type": "execute_result",
     "data": {
      "text/plain": [
       "'Cloudflare'"
      ]
     },
     "metadata": {},
     "execution_count": 31
    }
   ],
   "source": []
  },
  {
   "source": [
    "### Functions ###"
   ],
   "cell_type": "markdown",
   "metadata": {}
  },
  {
   "source": [
    "Just before the dictionary section we covered tuples in the context of sorting IP addresses. Our last task was to convert our an IP address from a list datatype to a tuple datatype. We also made sure that our tuple contained each individual part of the IP address as an integer and not a string. In this section we are going to use that same code but make use of functions. Our code here is going to be a somewhat simplified version of what is in the post on stackoverflow (see: https://stackoverflow.com/questions/6545023/how-to-sort-ip-addresses-stored-in-dictionary-in-python)  "
   ],
   "cell_type": "markdown",
   "metadata": {}
  },
  {
   "source": [
    "In the code cell below write a function that splits the IP address. Simply re-use the code that you produced earlier which split the list but now put it in a function. At this stage your function will take one argument which is a list and return one argument which is another list. Don't worry about converting to integers or converting the list to a tuple at this stage. Just take the list, split it on the '.' character, and return the list of strings. For the sake of easy reference later on in this section let's call this function IP_splitter."
   ],
   "cell_type": "markdown",
   "metadata": {}
  },
  {
   "cell_type": "code",
   "execution_count": 32,
   "metadata": {},
   "outputs": [],
   "source": []
  },
  {
   "source": [
    "Before we go any further with this function let's just check what your IP_addresses list contains. Your IP_addresses list should contain the following IP addresses: '1.0.0.1',\n",
    " '1.1.1.1',\n",
    " '139.130.4.5',\n",
    " '198.153.192.1',\n",
    " '198.153.194.2',\n",
    " '205.210.42.205',\n",
    " '208.67.220.220',\n",
    " '208.67.222.222',\n",
    " '64.68.200.200',\n",
    " '8.8.4.4',\n",
    " '8.8.8.8'. Check that this is the case in the code cell below before we go any further. If you need to make any changes do so now in the code cell below - you can simply assign the appropriate list to IP_addresses here."
   ],
   "cell_type": "markdown",
   "metadata": {}
  },
  {
   "cell_type": "code",
   "execution_count": 33,
   "metadata": {},
   "outputs": [
    {
     "output_type": "execute_result",
     "data": {
      "text/plain": [
       "['1.0.0.1',\n",
       " '1.1.1.1',\n",
       " '139.130.4.5',\n",
       " '198.153.192.1',\n",
       " '198.153.194.2',\n",
       " '205.210.42.205',\n",
       " '208.67.220.220',\n",
       " '208.67.222.222',\n",
       " '64.68.200.200',\n",
       " '8.8.4.4',\n",
       " '8.8.8.8']"
      ]
     },
     "metadata": {},
     "execution_count": 33
    }
   ],
   "source": []
  },
  {
   "source": [
    "Now, in the code cell below try out your function on the IP_address list. Go through each element of the IP_address list with whatever looping mechanism you like eg. a for loop. In the loop pass the element to your function and print the return value of the function. Printing the return value of the function while you are still in the loop is simply to ensure the function has worked as intended. "
   ],
   "cell_type": "markdown",
   "metadata": {}
  },
  {
   "cell_type": "code",
   "execution_count": 34,
   "metadata": {},
   "outputs": [
    {
     "output_type": "stream",
     "name": "stdout",
     "text": [
      "['1', '0', '0', '1']\n['1', '1', '1', '1']\n['139', '130', '4', '5']\n['198', '153', '192', '1']\n['198', '153', '194', '2']\n['205', '210', '42', '205']\n['208', '67', '220', '220']\n['208', '67', '222', '222']\n['64', '68', '200', '200']\n['8', '8', '4', '4']\n['8', '8', '8', '8']\n"
     ]
    }
   ],
   "source": []
  },
  {
   "source": [
    "If you have anything other than 11 lines of IP addresses that have been split into a list of strings then have another look at your code. Remember to ensure that you are passing the correct list of IP_addresses.   "
   ],
   "cell_type": "markdown",
   "metadata": {}
  },
  {
   "source": [
    "Now that we have this part working let's write a function that takes the results of IP_splitter and changes each element of the list to an integer. You already wrote code that did this previously. Call this function to_int. This function will simply take a list of strings and return a list of integers."
   ],
   "cell_type": "markdown",
   "metadata": {}
  },
  {
   "cell_type": "code",
   "execution_count": 35,
   "metadata": {},
   "outputs": [],
   "source": []
  },
  {
   "source": [
    "In the code below verify that your to_int function works by passing a single test IP address list to it eg. '1', '0', '0', '1'. Print the result to screen to ensure it has worked."
   ],
   "cell_type": "markdown",
   "metadata": {}
  },
  {
   "cell_type": "code",
   "execution_count": 36,
   "metadata": {},
   "outputs": [
    {
     "output_type": "stream",
     "name": "stdout",
     "text": [
      "[1, 0, 0, 1]\n"
     ]
    }
   ],
   "source": []
  },
  {
   "source": [
    "So far we have two functions: one that splits the IP_address on the '.' character and one that converts each individual part of an IP address to an integer. We have one last ting we have to do which is to change our IP_address to a tuple rather than a list. Write another function to_tuple that does this. "
   ],
   "cell_type": "markdown",
   "metadata": {}
  },
  {
   "cell_type": "code",
   "execution_count": 37,
   "metadata": {},
   "outputs": [],
   "source": []
  },
  {
   "source": [
    "The following IP address is to be used for test purposes."
   ],
   "cell_type": "markdown",
   "metadata": {}
  },
  {
   "cell_type": "code",
   "execution_count": 38,
   "metadata": {},
   "outputs": [],
   "source": [
    "test_IP_address = [5, 5, 5, 5]"
   ]
  },
  {
   "source": [
    "Use the test_IP_address above to test your to_tuple function. Make sure you check the datatype before the function and after the function by printing to screen."
   ],
   "cell_type": "markdown",
   "metadata": {}
  },
  {
   "cell_type": "code",
   "execution_count": 39,
   "metadata": {},
   "outputs": [
    {
     "output_type": "stream",
     "name": "stdout",
     "text": [
      "Before function\n<class 'list'>\nAfter function\n<class 'tuple'>\n"
     ]
    }
   ],
   "source": []
  },
  {
   "source": [
    "Now we have all three functions let's put them all together. Let's write a small section of code that relies on the IP_splitter function, the to_int function and the to_tuple function. This is very similar to what you did in previously when you looped through each element of the IP_addresses list and passed it to the IP_splitter function. This time however, you are going to loop through each element of the IP_addresses list, pass it to the IP_splitter function and then pass the result of that IP_splitter function to the to_int function and then pass the result of the to_int function to the to_tuple function. While you are in the loop make sure that you print out the result of each step just so that you can confirm things are working as they should. At this stage don't worry about changing the actual IP_addresses list. We simply want to check that our functions work together and get our loop going.\n",
    "\n"
   ],
   "cell_type": "markdown",
   "metadata": {}
  },
  {
   "cell_type": "code",
   "execution_count": 40,
   "metadata": {},
   "outputs": [
    {
     "output_type": "stream",
     "name": "stdout",
     "text": [
      "['1', '0', '0', '1']\n[1, 0, 0, 1]\n(1, 0, 0, 1)\n['1', '1', '1', '1']\n[1, 1, 1, 1]\n(1, 1, 1, 1)\n['139', '130', '4', '5']\n[139, 130, 4, 5]\n(139, 130, 4, 5)\n['198', '153', '192', '1']\n[198, 153, 192, 1]\n(198, 153, 192, 1)\n['198', '153', '194', '2']\n[198, 153, 194, 2]\n(198, 153, 194, 2)\n['205', '210', '42', '205']\n[205, 210, 42, 205]\n(205, 210, 42, 205)\n['208', '67', '220', '220']\n[208, 67, 220, 220]\n(208, 67, 220, 220)\n['208', '67', '222', '222']\n[208, 67, 222, 222]\n(208, 67, 222, 222)\n['64', '68', '200', '200']\n[64, 68, 200, 200]\n(64, 68, 200, 200)\n['8', '8', '4', '4']\n[8, 8, 4, 4]\n(8, 8, 4, 4)\n['8', '8', '8', '8']\n[8, 8, 8, 8]\n(8, 8, 8, 8)\n"
     ]
    }
   ],
   "source": []
  },
  {
   "source": [
    "You should be able to confirm in the above that all of your functions are working as intended. "
   ],
   "cell_type": "markdown",
   "metadata": {}
  },
  {
   "source": [
    "In the code cell below print out your IP_addresses list to check the contents. "
   ],
   "cell_type": "markdown",
   "metadata": {}
  },
  {
   "cell_type": "code",
   "execution_count": 41,
   "metadata": {},
   "outputs": [
    {
     "output_type": "stream",
     "name": "stdout",
     "text": [
      "['1.0.0.1', '1.1.1.1', '139.130.4.5', '198.153.192.1', '198.153.194.2', '205.210.42.205', '208.67.220.220', '208.67.222.222', '64.68.200.200', '8.8.4.4', '8.8.8.8']\n"
     ]
    }
   ],
   "source": []
  },
  {
   "source": [
    "If you didn't worry about changing the IP_addresses list in the loop you just completed then your IP_addresses list will be unchanged. We are going to address this now by using enumerate to loop through our IP_addresses list and change each element of that list as we go. In the code cell below call your relevant functions but this time make sure to change each element of the IP_addresses list as you go so that each element will be stored as a tuple of ints. You can take out your print statements now that you know everything works as intended."
   ],
   "cell_type": "markdown",
   "metadata": {}
  },
  {
   "cell_type": "code",
   "execution_count": 42,
   "metadata": {},
   "outputs": [],
   "source": []
  },
  {
   "source": [
    "Now print out your IP_addresses to see if it has changed."
   ],
   "cell_type": "markdown",
   "metadata": {}
  },
  {
   "cell_type": "code",
   "execution_count": 43,
   "metadata": {},
   "outputs": [
    {
     "output_type": "stream",
     "name": "stdout",
     "text": [
      "[(1, 0, 0, 1), (1, 1, 1, 1), (139, 130, 4, 5), (198, 153, 192, 1), (198, 153, 194, 2), (205, 210, 42, 205), (208, 67, 220, 220), (208, 67, 222, 222), (64, 68, 200, 200), (8, 8, 4, 4), (8, 8, 8, 8)]\n"
     ]
    }
   ],
   "source": []
  },
  {
   "source": [
    "You should see in the above a list of tuples. We are almost there..."
   ],
   "cell_type": "markdown",
   "metadata": {}
  },
  {
   "source": [
    "Let's try a simple default sort method (no parameters) on our IP_addresses list and see if we are any closer to our goal of sorting IP addresses."
   ],
   "cell_type": "markdown",
   "metadata": {}
  },
  {
   "cell_type": "code",
   "execution_count": 44,
   "metadata": {},
   "outputs": [
    {
     "output_type": "execute_result",
     "data": {
      "text/plain": [
       "[(1, 0, 0, 1),\n",
       " (1, 1, 1, 1),\n",
       " (8, 8, 4, 4),\n",
       " (8, 8, 8, 8),\n",
       " (64, 68, 200, 200),\n",
       " (139, 130, 4, 5),\n",
       " (198, 153, 192, 1),\n",
       " (198, 153, 194, 2),\n",
       " (205, 210, 42, 205),\n",
       " (208, 67, 220, 220),\n",
       " (208, 67, 222, 222)]"
      ]
     },
     "metadata": {},
     "execution_count": 44
    }
   ],
   "source": []
  },
  {
   "source": [
    "So far so good. But is that really it? It seems that we are done but before we congratulate ourselves we might want to take a look at the documentation (see: https://docs.python.org/3/howto/sorting.html) to see how the default sort() actually works. From the documentation it may not be entirely clear what the default behaviour of sort() is when we have a list of lists. How is it really sorting our tuples? Is it only sorting on the first element of the nested tuple and then finishing or is it going through the first element, then the second element and so on? With our particular list of tuples in the format that they are, it is difficult to tell. Additionally, we know from the documentation that when there is a list of lists - they don't show any tuples here - they are stipulating on which key to sort - the first or second element and so on. So this should lead us to question what is really happening here. Let's dig a little further with our own example and make sure we are on the right track. "
   ],
   "cell_type": "markdown",
   "metadata": {}
  },
  {
   "source": [
    "In order to figure out what is going on with the sort() function we are going to change our list of tuples so we can see the behaviour of sort more clearly. Let's start with the following IP_address."
   ],
   "cell_type": "markdown",
   "metadata": {}
  },
  {
   "cell_type": "code",
   "execution_count": 45,
   "metadata": {},
   "outputs": [],
   "source": [
    "another_IP_address = (208, 67, 221, 220)"
   ]
  },
  {
   "source": [
    "Now simply append this IP address to the end of our IP_addresses list. Print it to the screen so that you know your append has worked."
   ],
   "cell_type": "markdown",
   "metadata": {}
  },
  {
   "cell_type": "code",
   "execution_count": 46,
   "metadata": {},
   "outputs": [
    {
     "output_type": "stream",
     "name": "stdout",
     "text": [
      "[(1, 0, 0, 1), (1, 1, 1, 1), (8, 8, 4, 4), (8, 8, 8, 8), (64, 68, 200, 200), (139, 130, 4, 5), (198, 153, 192, 1), (198, 153, 194, 2), (205, 210, 42, 205), (208, 67, 220, 220), (208, 67, 222, 222), (208, 67, 221, 220)]\n"
     ]
    }
   ],
   "source": []
  },
  {
   "source": [
    "So now you should see another_IP_address: 208, 67, 221, 220 appearing at the end of the IP_addresses list. Before we apply the sort let's think about what behaviour we are expecting. If sort() works on only the first element of the nested list then have a think about where it would appear in the sorted list. Remember that (as the documentation states) sort() is guaranteed to be stable which means the original ordering is guaranteed. This means that if it only sorted on the first element then another_IP_address will simply stay in last place. Apply the sort() now and see what happens."
   ],
   "cell_type": "markdown",
   "metadata": {}
  },
  {
   "cell_type": "code",
   "execution_count": 47,
   "metadata": {},
   "outputs": [
    {
     "output_type": "execute_result",
     "data": {
      "text/plain": [
       "[(1, 0, 0, 1),\n",
       " (1, 1, 1, 1),\n",
       " (8, 8, 4, 4),\n",
       " (8, 8, 8, 8),\n",
       " (64, 68, 200, 200),\n",
       " (139, 130, 4, 5),\n",
       " (198, 153, 192, 1),\n",
       " (198, 153, 194, 2),\n",
       " (205, 210, 42, 205),\n",
       " (208, 67, 220, 220),\n",
       " (208, 67, 221, 220),\n",
       " (208, 67, 222, 222)]"
      ]
     },
     "metadata": {},
     "execution_count": 47
    }
   ],
   "source": []
  },
  {
   "source": [
    "We see in the above that another_IP_address has been put into it's correct position. We now know that sort() doesn't simply sort on the first element of the nested list. It sorts on at least the first and third elements of our nested tuples. This isn't enough to guarantee that sort() works in exactly the way we think it does and will satisfy our criteria for sorting IP_addresses. However, we are on the right track and we would only need to do a couple more tests to be sure. Do this as an exercise now by testing to see if it works on the second and fourth elements of the IP address. You can do this in two steps or one step like we did above. Do that in the code cell below:"
   ],
   "cell_type": "markdown",
   "metadata": {}
  },
  {
   "cell_type": "code",
   "execution_count": null,
   "metadata": {},
   "outputs": [],
   "source": []
  },
  {
   "source": [
    "Now through our testing we are confident that the sort() function is fit for purpose and we have achieved our goal of sorting IP addresses. Our code will be similar to the post on stackoverflow but certainly not the same. For someone reading code it is also likely that it is easier to understand what is going on - particularly for a newcomer or those who are a bit rusty on their coding. Depending on your experience level putting some of these steps into a dedicated function is overkill which is hard to disagree with. However, as an exercise hopefully we've got the hang of functions and how they improve organisation and re-use. This is the point of functions and this section. "
   ],
   "cell_type": "markdown",
   "metadata": {}
  },
  {
   "source": [
    "Now that we have finished lets remove those addresses that we put here for testing purposes (ie. another_IP_address and any other addresses you added in the previous code cell. Do this in the code below and again print the IP_addresses list to the screen to make sure you have removed them."
   ],
   "cell_type": "markdown",
   "metadata": {}
  },
  {
   "cell_type": "code",
   "execution_count": 48,
   "metadata": {},
   "outputs": [
    {
     "output_type": "execute_result",
     "data": {
      "text/plain": [
       "[(1, 0, 0, 1),\n",
       " (1, 1, 1, 1),\n",
       " (8, 8, 4, 4),\n",
       " (8, 8, 8, 8),\n",
       " (64, 68, 200, 200),\n",
       " (139, 130, 4, 5),\n",
       " (198, 153, 192, 1),\n",
       " (198, 153, 194, 2),\n",
       " (205, 210, 42, 205),\n",
       " (208, 67, 220, 220),\n",
       " (208, 67, 222, 222)]"
      ]
     },
     "metadata": {},
     "execution_count": 48
    }
   ],
   "source": []
  },
  {
   "source": [
    "## 2. NumPy Basics ##"
   ],
   "cell_type": "markdown",
   "metadata": {}
  },
  {
   "source": [
    "In this section we are going to follow along with a similar format to the Official NumPy documentation see: https://numpy.org/doc/stable/user/absolute_beginners.html. We are also going to continue along using our familiar example of IP addresses that we used in the previous sections. Storing IP addresses as a NumPy array makes sense - the construct of many IP addresses together is essentially a construct of an nd-array - a multi-dimensional array of homogenous data. For those who are interested see Tom Augspurger's post (https://tomaugspurger.github.io/pandas-extension-arrays.html) for a practical scenario of using NumPy with IP addresses. Don't worry if the reading sounds a little advanced just note at this stage that NumPy is used to store IP addresses but that in order to cater for the complexity of a real-world situation a degree of coding 'trickery' had to be introduced."
   ],
   "cell_type": "markdown",
   "metadata": {}
  },
  {
   "source": [
    "As explained in the NumPy documentation one way of initialising NumPy arrays is from Python lists. Let's do this now with our IP_addresses list that we had earlier. Remember that to access NumPy and it's functions you will have to import it first. Print it to the screen so that you know what it has worked."
   ],
   "cell_type": "markdown",
   "metadata": {}
  },
  {
   "cell_type": "code",
   "execution_count": 52,
   "metadata": {},
   "outputs": [
    {
     "output_type": "execute_result",
     "data": {
      "text/plain": [
       "array([[  1,   0,   0,   1],\n",
       "       [  1,   1,   1,   1],\n",
       "       [  8,   8,   4,   4],\n",
       "       [  8,   8,   8,   8],\n",
       "       [ 64,  68, 200, 200],\n",
       "       [139, 130,   4,   5],\n",
       "       [198, 153, 192,   1],\n",
       "       [198, 153, 194,   2],\n",
       "       [205, 210,  42, 205],\n",
       "       [208,  67, 220, 220],\n",
       "       [208,  67, 222, 222]])"
      ]
     },
     "metadata": {},
     "execution_count": 52
    }
   ],
   "source": []
  },
  {
   "source": [
    "Now that we've created our numpy array let's just check its data type. Remember Python keeps track of all these details internally so, if for some reason we are unsure of the data type we can always request this information from Python. Do so now in the code below."
   ],
   "cell_type": "markdown",
   "metadata": {}
  },
  {
   "cell_type": "code",
   "execution_count": 53,
   "metadata": {},
   "outputs": [
    {
     "output_type": "execute_result",
     "data": {
      "text/plain": [
       "numpy.ndarray"
      ]
     },
     "metadata": {},
     "execution_count": 53
    }
   ],
   "source": []
  },
  {
   "source": [
    "If you received anything other than the information numpy.ndarray then go back and check your code."
   ],
   "cell_type": "markdown",
   "metadata": {}
  },
  {
   "cell_type": "code",
   "execution_count": null,
   "metadata": {},
   "outputs": [],
   "source": []
  },
  {
   "source": [
    "## To Be Continued ##"
   ],
   "cell_type": "markdown",
   "metadata": {}
  }
 ]
}